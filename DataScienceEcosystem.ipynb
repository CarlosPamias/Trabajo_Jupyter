{
 "cells": [
  {
   "cell_type": "markdown",
   "id": "2bd127ec-7db3-4a9c-83cf-cece7faf0ecc",
   "metadata": {},
   "source": [
    "# Data Science Tools and Ecosystem\n",
    "In this notebook, Data Science Tools and Ecosystem are summarized."
   ]
  },
  {
   "cell_type": "markdown",
   "id": "ef6c588c-f60a-46de-9f66-4666ba1265d3",
   "metadata": {},
   "source": [
    "Some of the popular languages that Data Scientists use are:\n",
    "+ Python\n",
    "+ R\n",
    "+ SQL"
   ]
  },
  {
   "cell_type": "markdown",
   "id": "0bd38437-cd34-41e9-ac67-91c78b72240e",
   "metadata": {},
   "source": [
    "Some of the commonly used libraries used by Data Scientists include:\n",
    "+ Pandas\n",
    "+ Matplotlib\n",
    "+ Seaborn"
   ]
  },
  {
   "cell_type": "markdown",
   "id": "09da7b27-ae4e-4e10-b161-f54f9d94d6b3",
   "metadata": {},
   "source": [
    "** Objectives: **\n",
    "+ Python\n",
    "+ R\n",
    "* Java\n",
    "* Julia\n",
    "- Matlab"
   ]
  },
  {
   "cell_type": "markdown",
   "id": "c8943a88-de81-4a3a-a31d-e5c8fd078cd6",
   "metadata": {},
   "source": [
    "|Data Science Tools|\n",
    "|------------------|\n",
    "|LENGUAJE R|\n",
    "|Python|\n",
    "|Jupiter NoteBook|\n"
   ]
  },
  {
   "cell_type": "markdown",
   "id": "6ab429f3-b926-4b80-a012-f9f39b4cafa2",
   "metadata": {},
   "source": [
    "### Below are a few examples of evaluating arithmetic expressions in Python."
   ]
  },
  {
   "cell_type": "code",
   "execution_count": 4,
   "id": "94918b4c-c546-44d8-8816-750108beb6ef",
   "metadata": {},
   "outputs": [
    {
     "data": {
      "text/plain": [
       "17"
      ]
     },
     "execution_count": 4,
     "metadata": {},
     "output_type": "execute_result"
    }
   ],
   "source": [
    "(3*4)+5"
   ]
  },
  {
   "cell_type": "markdown",
   "id": "dfaa417e-75c3-443a-9114-1db74f231754",
   "metadata": {},
   "source": [
    "Below are a few examples of evaluating arithmetic expressions in Python."
   ]
  },
  {
   "cell_type": "markdown",
   "id": "472a1a72-137c-4467-a0d8-dd22e24de7de",
   "metadata": {},
   "source": [
    " This will convert 200 minutes to hours by diving by 60."
   ]
  },
  {
   "cell_type": "markdown",
   "id": "a7c52b7d-b105-4882-b32f-ea73a0d5176a",
   "metadata": {},
   "source": []
  },
  {
   "cell_type": "code",
   "execution_count": 8,
   "id": "52a5730d-6fe9-4ec2-b138-9d3980bb0a45",
   "metadata": {},
   "outputs": [
    {
     "name": "stdout",
     "output_type": "stream",
     "text": [
      "10.0\n"
     ]
    }
   ],
   "source": [
    "minutos = 600\n",
    "horas = minutos / 60\n",
    "print(horas)"
   ]
  },
  {
   "cell_type": "markdown",
   "id": "36601587-9f3d-49d4-822d-9b7929af8a72",
   "metadata": {},
   "source": [
    "## Author\n",
    "Carlos Pamias"
   ]
  },
  {
   "cell_type": "code",
   "execution_count": null,
   "id": "b78fa814-960c-4a36-8b54-f0ea0d34a093",
   "metadata": {},
   "outputs": [],
   "source": []
  }
 ],
 "metadata": {
  "kernelspec": {
   "display_name": "Python 3 (ipykernel)",
   "language": "python",
   "name": "python3"
  },
  "language_info": {
   "codemirror_mode": {
    "name": "ipython",
    "version": 3
   },
   "file_extension": ".py",
   "mimetype": "text/x-python",
   "name": "python",
   "nbconvert_exporter": "python",
   "pygments_lexer": "ipython3",
   "version": "3.11.7"
  }
 },
 "nbformat": 4,
 "nbformat_minor": 5
}
